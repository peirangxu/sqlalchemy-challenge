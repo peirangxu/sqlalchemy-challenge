{
 "cells": [
  {
   "cell_type": "code",
   "execution_count": 1,
   "metadata": {},
   "outputs": [],
   "source": [
    "%matplotlib inline\n",
    "from matplotlib import style\n",
    "style.use('fivethirtyeight')\n",
    "import matplotlib.pyplot as plt"
   ]
  },
  {
   "cell_type": "code",
   "execution_count": 2,
   "metadata": {},
   "outputs": [],
   "source": [
    "import numpy as np\n",
    "import pandas as pd"
   ]
  },
  {
   "cell_type": "code",
   "execution_count": 3,
   "metadata": {},
   "outputs": [],
   "source": [
    "import datetime as dt"
   ]
  },
  {
   "cell_type": "markdown",
   "metadata": {},
   "source": [
    "# Reflect Tables into SQLAlchemy ORM"
   ]
  },
  {
   "cell_type": "code",
   "execution_count": 4,
   "metadata": {},
   "outputs": [],
   "source": [
    "# Python SQL toolkit and Object Relational Mapper\n",
    "import sqlalchemy\n",
    "from sqlalchemy.ext.automap import automap_base\n",
    "from sqlalchemy.orm import Session\n",
    "from sqlalchemy import create_engine, func"
   ]
  },
  {
   "cell_type": "code",
   "execution_count": 5,
   "metadata": {},
   "outputs": [],
   "source": [
    "engine = create_engine(\"sqlite:///Resources/hawaii.sqlite\")"
   ]
  },
  {
   "cell_type": "code",
   "execution_count": 6,
   "metadata": {},
   "outputs": [],
   "source": [
    "# reflect an existing database into a new model\n",
    "Base = automap_base()\n",
    "# reflect the tables\n",
    "Base.prepare(engine, reflect=True)"
   ]
  },
  {
   "cell_type": "code",
   "execution_count": 7,
   "metadata": {},
   "outputs": [
    {
     "data": {
      "text/plain": [
       "['measurement', 'station']"
      ]
     },
     "execution_count": 7,
     "metadata": {},
     "output_type": "execute_result"
    }
   ],
   "source": [
    "# We can view all of the classes that automap found\n",
    "Base.classes.keys()"
   ]
  },
  {
   "cell_type": "code",
   "execution_count": 8,
   "metadata": {},
   "outputs": [],
   "source": [
    "# Save references to each table\n",
    "Measurement = Base.classes.measurement\n",
    "Station = Base.classes.station"
   ]
  },
  {
   "cell_type": "code",
   "execution_count": 9,
   "metadata": {},
   "outputs": [],
   "source": [
    "# Create our session (link) from Python to the DB\n",
    "session = Session(engine)"
   ]
  },
  {
   "cell_type": "markdown",
   "metadata": {},
   "source": [
    "# Exploratory Climate Analysis"
   ]
  },
  {
   "cell_type": "code",
   "execution_count": 10,
   "metadata": {},
   "outputs": [
    {
     "name": "stdout",
     "output_type": "stream",
     "text": [
      "id INTEGER\n",
      "station TEXT\n",
      "date TEXT\n",
      "prcp FLOAT\n",
      "tobs FLOAT\n",
      "id INTEGER\n",
      "station TEXT\n",
      "name TEXT\n",
      "latitude FLOAT\n",
      "longitude FLOAT\n",
      "elevation FLOAT\n"
     ]
    }
   ],
   "source": [
    "from sqlalchemy import inspect\n",
    "\n",
    "inspector = inspect(engine)\n",
    "\n",
    "for i in inspector.get_columns(\"measurement\"):\n",
    "    print(i[\"name\"],i[\"type\"])\n",
    "\n",
    "for j in inspector.get_columns(\"station\"):\n",
    "    print(j[\"name\"],j[\"type\"])"
   ]
  },
  {
   "cell_type": "code",
   "execution_count": 11,
   "metadata": {},
   "outputs": [
    {
     "data": {
      "text/plain": [
       "[(1, 'USC00519397', '2010-01-01', 0.08, 65.0),\n",
       " (2, 'USC00519397', '2010-01-02', 0.0, 63.0),\n",
       " (3, 'USC00519397', '2010-01-03', 0.0, 74.0),\n",
       " (4, 'USC00519397', '2010-01-04', 0.0, 76.0),\n",
       " (5, 'USC00519397', '2010-01-06', None, 73.0),\n",
       " (6, 'USC00519397', '2010-01-07', 0.06, 70.0),\n",
       " (7, 'USC00519397', '2010-01-08', 0.0, 64.0),\n",
       " (8, 'USC00519397', '2010-01-09', 0.0, 68.0),\n",
       " (9, 'USC00519397', '2010-01-10', 0.0, 73.0),\n",
       " (10, 'USC00519397', '2010-01-11', 0.01, 64.0)]"
      ]
     },
     "execution_count": 11,
     "metadata": {},
     "output_type": "execute_result"
    }
   ],
   "source": [
    "engine.execute(\"SELECT * FROM Measurement limit 10\").fetchall()"
   ]
  },
  {
   "cell_type": "code",
   "execution_count": 12,
   "metadata": {},
   "outputs": [
    {
     "data": {
      "text/plain": [
       "[(1, 'USC00519397', 'WAIKIKI 717.2, HI US', 21.2716, -157.8168, 3.0),\n",
       " (2, 'USC00513117', 'KANEOHE 838.1, HI US', 21.4234, -157.8015, 14.6),\n",
       " (3, 'USC00514830', 'KUALOA RANCH HEADQUARTERS 886.9, HI US', 21.5213, -157.8374, 7.0),\n",
       " (4, 'USC00517948', 'PEARL CITY, HI US', 21.3934, -157.9751, 11.9),\n",
       " (5, 'USC00518838', 'UPPER WAHIAWA 874.3, HI US', 21.4992, -158.0111, 306.6),\n",
       " (6, 'USC00519523', 'WAIMANALO EXPERIMENTAL FARM, HI US', 21.33556, -157.71139, 19.5),\n",
       " (7, 'USC00519281', 'WAIHEE 837.5, HI US', 21.45167, -157.84888999999998, 32.9),\n",
       " (8, 'USC00511918', 'HONOLULU OBSERVATORY 702.2, HI US', 21.3152, -157.9992, 0.9),\n",
       " (9, 'USC00516128', 'MANOA LYON ARBO 785.2, HI US', 21.3331, -157.8025, 152.4)]"
      ]
     },
     "execution_count": 12,
     "metadata": {},
     "output_type": "execute_result"
    }
   ],
   "source": [
    "engine.execute(\"SELECT * FROM Station limit 10\").fetchall()"
   ]
  },
  {
   "cell_type": "code",
   "execution_count": 13,
   "metadata": {},
   "outputs": [
    {
     "name": "stdout",
     "output_type": "stream",
     "text": [
      "2017-08-23\n",
      "2016-08-23\n"
     ]
    },
    {
     "data": {
      "text/html": [
       "<div>\n",
       "<style scoped>\n",
       "    .dataframe tbody tr th:only-of-type {\n",
       "        vertical-align: middle;\n",
       "    }\n",
       "\n",
       "    .dataframe tbody tr th {\n",
       "        vertical-align: top;\n",
       "    }\n",
       "\n",
       "    .dataframe thead th {\n",
       "        text-align: right;\n",
       "    }\n",
       "</style>\n",
       "<table border=\"1\" class=\"dataframe\">\n",
       "  <thead>\n",
       "    <tr style=\"text-align: right;\">\n",
       "      <th></th>\n",
       "      <th>precipitation</th>\n",
       "    </tr>\n",
       "    <tr>\n",
       "      <th>date</th>\n",
       "      <th></th>\n",
       "    </tr>\n",
       "  </thead>\n",
       "  <tbody>\n",
       "    <tr>\n",
       "      <th>2016-08-23</th>\n",
       "      <td>0.00</td>\n",
       "    </tr>\n",
       "    <tr>\n",
       "      <th>2016-08-23</th>\n",
       "      <td>NaN</td>\n",
       "    </tr>\n",
       "    <tr>\n",
       "      <th>2016-08-23</th>\n",
       "      <td>1.79</td>\n",
       "    </tr>\n",
       "    <tr>\n",
       "      <th>2016-08-23</th>\n",
       "      <td>0.05</td>\n",
       "    </tr>\n",
       "    <tr>\n",
       "      <th>2016-08-23</th>\n",
       "      <td>0.15</td>\n",
       "    </tr>\n",
       "  </tbody>\n",
       "</table>\n",
       "</div>"
      ],
      "text/plain": [
       "            precipitation\n",
       "date                     \n",
       "2016-08-23           0.00\n",
       "2016-08-23            NaN\n",
       "2016-08-23           1.79\n",
       "2016-08-23           0.05\n",
       "2016-08-23           0.15"
      ]
     },
     "execution_count": 13,
     "metadata": {},
     "output_type": "execute_result"
    }
   ],
   "source": [
    "# Design a query to retrieve the last 12 months of precipitation data and plot the results\n",
    "# Calculate the date 1 year ago from the last data point in the database\n",
    "last_day = session.query(Measurement.date).order_by(Measurement.date.desc()).first()[0]\n",
    "print(last_day)\n",
    "year_ago =  dt.date(2017,8,23)- dt.timedelta(365)\n",
    "print(year_ago)\n",
    "\n",
    "# Perform a query to retrieve the data and precipitation scores\n",
    "prcp = session.query(Measurement.date, Measurement.prcp).filter(Measurement.date<= last_day).\\\n",
    "    filter(Measurement.date >= year_ago).all()\n",
    "\n",
    "# Save the query results as a Pandas DataFrame and set the index to the date column\n",
    "prcp_df = pd.DataFrame(prcp, columns = [\"date\", \"precipitation\"])\n",
    "prcp_df = prcp_df.set_index(\"date\")\n",
    "\n",
    "# Sort the dataframe by date\n",
    "prcp_df = prcp_df.sort_index()\n",
    "prcp_df.head()"
   ]
  },
  {
   "cell_type": "code",
   "execution_count": 14,
   "metadata": {},
   "outputs": [
    {
     "data": {
      "image/png": "[encoded data removed]",
      "text/plain": [
       "<Figure size 432x288 with 1 Axes>"
      ]
     },
     "metadata": {
      "needs_background": "light"
     },
     "output_type": "display_data"
    }
   ],
   "source": [
    "# Use Pandas Plotting with Matplotlib to plot the data\n",
    "prcp_df.plot(title = \"precipitation vs. date\")\n",
    "plt.xticks(rotation = 90)\n",
    "plt.ylabel(\"precipitation\")\n",
    "plt.savefig(\"Plots/precipitation vs. date.png\")"
   ]
  },
  {
   "cell_type": "markdown",
   "metadata": {},
   "source": [
    "![precipitation](Images/precipitation.png)"
   ]
  },
  {
   "cell_type": "code",
   "execution_count": 15,
   "metadata": {},
   "outputs": [
    {
     "data": {
      "text/html": [
       "<div>\n",
       "<style scoped>\n",
       "    .dataframe tbody tr th:only-of-type {\n",
       "        vertical-align: middle;\n",
       "    }\n",
       "\n",
       "    .dataframe tbody tr th {\n",
       "        vertical-align: top;\n",
       "    }\n",
       "\n",
       "    .dataframe thead th {\n",
       "        text-align: right;\n",
       "    }\n",
       "</style>\n",
       "<table border=\"1\" class=\"dataframe\">\n",
       "  <thead>\n",
       "    <tr style=\"text-align: right;\">\n",
       "      <th></th>\n",
       "      <th>precipitation</th>\n",
       "    </tr>\n",
       "  </thead>\n",
       "  <tbody>\n",
       "    <tr>\n",
       "      <th>count</th>\n",
       "      <td>2021.000000</td>\n",
       "    </tr>\n",
       "    <tr>\n",
       "      <th>mean</th>\n",
       "      <td>0.177279</td>\n",
       "    </tr>\n",
       "    <tr>\n",
       "      <th>std</th>\n",
       "      <td>0.461190</td>\n",
       "    </tr>\n",
       "    <tr>\n",
       "      <th>min</th>\n",
       "      <td>0.000000</td>\n",
       "    </tr>\n",
       "    <tr>\n",
       "      <th>25%</th>\n",
       "      <td>0.000000</td>\n",
       "    </tr>\n",
       "    <tr>\n",
       "      <th>50%</th>\n",
       "      <td>0.020000</td>\n",
       "    </tr>\n",
       "    <tr>\n",
       "      <th>75%</th>\n",
       "      <td>0.130000</td>\n",
       "    </tr>\n",
       "    <tr>\n",
       "      <th>max</th>\n",
       "      <td>6.700000</td>\n",
       "    </tr>\n",
       "  </tbody>\n",
       "</table>\n",
       "</div>"
      ],
      "text/plain": [
       "       precipitation\n",
       "count    2021.000000\n",
       "mean        0.177279\n",
       "std         0.461190\n",
       "min         0.000000\n",
       "25%         0.000000\n",
       "50%         0.020000\n",
       "75%         0.130000\n",
       "max         6.700000"
      ]
     },
     "execution_count": 15,
     "metadata": {},
     "output_type": "execute_result"
    }
   ],
   "source": [
    "# Use Pandas to calcualte the summary statistics for the precipitation data\n",
    "prcp_df.describe()"
   ]
  },
  {
   "cell_type": "markdown",
   "metadata": {},
   "source": [
    "![describe](Images/describe.png)"
   ]
  },
  {
   "cell_type": "code",
   "execution_count": 16,
   "metadata": {},
   "outputs": [
    {
     "name": "stdout",
     "output_type": "stream",
     "text": [
      "There are 9 stations available in this dataset\n"
     ]
    }
   ],
   "source": [
    "# Design a query to show how many stations are available in this dataset?\n",
    "station_count = session.query(Measurement.station).group_by(Measurement.station).count()\n",
    "print(f\"There are {station_count} stations available in this dataset\")"
   ]
  },
  {
   "cell_type": "code",
   "execution_count": 17,
   "metadata": {},
   "outputs": [
    {
     "data": {
      "text/plain": [
       "[('USC00519281', 2772),\n",
       " ('USC00519397', 2724),\n",
       " ('USC00513117', 2709),\n",
       " ('USC00519523', 2669),\n",
       " ('USC00516128', 2612),\n",
       " ('USC00514830', 2202),\n",
       " ('USC00511918', 1979),\n",
       " ('USC00517948', 1372),\n",
       " ('USC00518838', 511)]"
      ]
     },
     "execution_count": 17,
     "metadata": {},
     "output_type": "execute_result"
    }
   ],
   "source": [
    "# What are the most active stations? (i.e. what stations have the most rows)?\n",
    "# List the stations and the counts in descending order.\n",
    "active_stations = session.query(Measurement.station,func.count(Measurement.station)).\\\n",
    "    group_by(Measurement.station).order_by(func.count(Measurement.station).desc()).all()\n",
    "active_stations"
   ]
  },
  {
   "cell_type": "code",
   "execution_count": 18,
   "metadata": {},
   "outputs": [
    {
     "data": {
      "text/plain": [
       "[(54.0, 85.0, 71.66378066378067)]"
      ]
     },
     "execution_count": 18,
     "metadata": {},
     "output_type": "execute_result"
    }
   ],
   "source": [
    "# Using the station id from the previous query, calculate the lowest temperature recorded, \n",
    "# highest temperature recorded, and average temperature most active station?\n",
    "stats = [func.min(Measurement.tobs),\n",
    "                 func.max(Measurement.tobs),\n",
    "                 func.avg(Measurement.tobs)]\n",
    "active_station_temp = session.query(*stats).\\\n",
    "    filter(Measurement.station == active_stations[0][0]).all()\n",
    "active_station_temp"
   ]
  },
  {
   "cell_type": "code",
   "execution_count": 19,
   "metadata": {},
   "outputs": [],
   "source": [
    "# Choose the station with the highest number of temperature observations.\n",
    "# Query the last 12 months of temperature observation data for this station and plot the results as a histogram\n",
    "active_station_temp = session.query(Measurement.tobs).\\\n",
    "    filter(Measurement.date<=last_day).filter(Measurement.date>=year_ago).\\\n",
    "    filter(Measurement.station == active_stations[0][0]).all()   "
   ]
  },
  {
   "cell_type": "code",
   "execution_count": 20,
   "metadata": {},
   "outputs": [
    {
     "data": {
      "text/html": [
       "<div>\n",
       "<style scoped>\n",
       "    .dataframe tbody tr th:only-of-type {\n",
       "        vertical-align: middle;\n",
       "    }\n",
       "\n",
       "    .dataframe tbody tr th {\n",
       "        vertical-align: top;\n",
       "    }\n",
       "\n",
       "    .dataframe thead th {\n",
       "        text-align: right;\n",
       "    }\n",
       "</style>\n",
       "<table border=\"1\" class=\"dataframe\">\n",
       "  <thead>\n",
       "    <tr style=\"text-align: right;\">\n",
       "      <th></th>\n",
       "      <th>tobs</th>\n",
       "    </tr>\n",
       "  </thead>\n",
       "  <tbody>\n",
       "    <tr>\n",
       "      <th>0</th>\n",
       "      <td>77.0</td>\n",
       "    </tr>\n",
       "    <tr>\n",
       "      <th>1</th>\n",
       "      <td>77.0</td>\n",
       "    </tr>\n",
       "    <tr>\n",
       "      <th>2</th>\n",
       "      <td>80.0</td>\n",
       "    </tr>\n",
       "    <tr>\n",
       "      <th>3</th>\n",
       "      <td>80.0</td>\n",
       "    </tr>\n",
       "    <tr>\n",
       "      <th>4</th>\n",
       "      <td>75.0</td>\n",
       "    </tr>\n",
       "  </tbody>\n",
       "</table>\n",
       "</div>"
      ],
      "text/plain": [
       "   tobs\n",
       "0  77.0\n",
       "1  77.0\n",
       "2  80.0\n",
       "3  80.0\n",
       "4  75.0"
      ]
     },
     "execution_count": 20,
     "metadata": {},
     "output_type": "execute_result"
    }
   ],
   "source": [
    "active_station_temp_df = pd.DataFrame(active_station_temp)\n",
    "active_station_temp_df.head()"
   ]
  },
  {
   "cell_type": "code",
   "execution_count": 21,
   "metadata": {},
   "outputs": [
    {
     "data": {
      "image/png": "[encoded data removed]",
      "text/plain": [
       "<Figure size 432x288 with 1 Axes>"
      ]
     },
     "metadata": {
      "needs_background": "light"
     },
     "output_type": "display_data"
    }
   ],
   "source": [
    "plt.hist(active_station_temp_df[\"tobs\"],bins=12, label = \"tobs\")\n",
    "plt.title(\"Temperature frequency for last 12 month\")\n",
    "plt.ylabel(\"Frequency\")\n",
    "plt.xlabel(\"Temp\")\n",
    "plt.legend()\n",
    "plt.savefig(\"Plots/Temperature frequency for last 12 month\")"
   ]
  },
  {
   "cell_type": "markdown",
   "metadata": {},
   "source": [
    "## Optional: Other Recommended Analysis"
   ]
  },
  {
   "cell_type": "markdown",
   "metadata": {},
   "source": [
    "### Temperature Analysis I"
   ]
  },
  {
   "cell_type": "code",
   "execution_count": 22,
   "metadata": {},
   "outputs": [
    {
     "name": "stdout",
     "output_type": "stream",
     "text": [
      "       station        date  prcp  tobs\n",
      "0  USC00519397  2010-01-01  0.08    65\n",
      "1  USC00519397  2010-01-02  0.00    63\n",
      "2  USC00519397  2010-01-03  0.00    74\n",
      "3  USC00519397  2010-01-04  0.00    76\n",
      "4  USC00519397  2010-01-06   NaN    73\n",
      "       station                                    name  latitude  longitude  \\\n",
      "0  USC00519397                    WAIKIKI 717.2, HI US   21.2716  -157.8168   \n",
      "1  USC00513117                    KANEOHE 838.1, HI US   21.4234  -157.8015   \n",
      "2  USC00514830  KUALOA RANCH HEADQUARTERS 886.9, HI US   21.5213  -157.8374   \n",
      "3  USC00517948                       PEARL CITY, HI US   21.3934  -157.9751   \n",
      "4  USC00518838              UPPER WAHIAWA 874.3, HI US   21.4992  -158.0111   \n",
      "\n",
      "   elevation  \n",
      "0        3.0  \n",
      "1       14.6  \n",
      "2        7.0  \n",
      "3       11.9  \n",
      "4      306.6  \n"
     ]
    }
   ],
   "source": [
    "#Import measurement ans station dataframes\n",
    "measurement_df = pd.read_csv(\"Resources/hawaii_measurements.csv\")\n",
    "station_df = pd.read_csv(\"Resources/hawaii_stations.csv\")\n",
    "print(measurement_df.head())\n",
    "print(station_df.head())"
   ]
  },
  {
   "cell_type": "code",
   "execution_count": 23,
   "metadata": {},
   "outputs": [
    {
     "data": {
      "text/html": [
       "<div>\n",
       "<style scoped>\n",
       "    .dataframe tbody tr th:only-of-type {\n",
       "        vertical-align: middle;\n",
       "    }\n",
       "\n",
       "    .dataframe tbody tr th {\n",
       "        vertical-align: top;\n",
       "    }\n",
       "\n",
       "    .dataframe thead th {\n",
       "        text-align: right;\n",
       "    }\n",
       "</style>\n",
       "<table border=\"1\" class=\"dataframe\">\n",
       "  <thead>\n",
       "    <tr style=\"text-align: right;\">\n",
       "      <th></th>\n",
       "      <th>station</th>\n",
       "      <th>date</th>\n",
       "      <th>prcp</th>\n",
       "      <th>tobs</th>\n",
       "    </tr>\n",
       "  </thead>\n",
       "  <tbody>\n",
       "    <tr>\n",
       "      <th>133</th>\n",
       "      <td>USC00519397</td>\n",
       "      <td>2010-06-01</td>\n",
       "      <td>0.00</td>\n",
       "      <td>78</td>\n",
       "    </tr>\n",
       "    <tr>\n",
       "      <th>134</th>\n",
       "      <td>USC00519397</td>\n",
       "      <td>2010-06-02</td>\n",
       "      <td>0.01</td>\n",
       "      <td>76</td>\n",
       "    </tr>\n",
       "    <tr>\n",
       "      <th>135</th>\n",
       "      <td>USC00519397</td>\n",
       "      <td>2010-06-03</td>\n",
       "      <td>0.00</td>\n",
       "      <td>78</td>\n",
       "    </tr>\n",
       "    <tr>\n",
       "      <th>136</th>\n",
       "      <td>USC00519397</td>\n",
       "      <td>2010-06-04</td>\n",
       "      <td>0.00</td>\n",
       "      <td>76</td>\n",
       "    </tr>\n",
       "    <tr>\n",
       "      <th>137</th>\n",
       "      <td>USC00519397</td>\n",
       "      <td>2010-06-05</td>\n",
       "      <td>0.00</td>\n",
       "      <td>77</td>\n",
       "    </tr>\n",
       "  </tbody>\n",
       "</table>\n",
       "</div>"
      ],
      "text/plain": [
       "         station        date  prcp  tobs\n",
       "133  USC00519397  2010-06-01  0.00    78\n",
       "134  USC00519397  2010-06-02  0.01    76\n",
       "135  USC00519397  2010-06-03  0.00    78\n",
       "136  USC00519397  2010-06-04  0.00    76\n",
       "137  USC00519397  2010-06-05  0.00    77"
      ]
     },
     "execution_count": 23,
     "metadata": {},
     "output_type": "execute_result"
    }
   ],
   "source": [
    "#June temperature\n",
    "june_df = measurement_df[pd.to_datetime(measurement_df[\"date\"]).dt.month == 6]\n",
    "june_df.head()"
   ]
  },
  {
   "cell_type": "code",
   "execution_count": 24,
   "metadata": {},
   "outputs": [
    {
     "name": "stdout",
     "output_type": "stream",
     "text": [
      "count    1700.000000\n",
      "mean       74.944118\n",
      "std         3.257417\n",
      "min        64.000000\n",
      "25%        73.000000\n",
      "50%        75.000000\n",
      "75%        77.000000\n",
      "max        85.000000\n",
      "Name: tobs, dtype: float64\n"
     ]
    }
   ],
   "source": [
    "#Average temp for June\n",
    "print(june_df[\"tobs\"].describe())\n",
    "june_ave = june_df[\"tobs\"].mean()"
   ]
  },
  {
   "cell_type": "code",
   "execution_count": 25,
   "metadata": {},
   "outputs": [
    {
     "data": {
      "text/html": [
       "<div>\n",
       "<style scoped>\n",
       "    .dataframe tbody tr th:only-of-type {\n",
       "        vertical-align: middle;\n",
       "    }\n",
       "\n",
       "    .dataframe tbody tr th {\n",
       "        vertical-align: top;\n",
       "    }\n",
       "\n",
       "    .dataframe thead th {\n",
       "        text-align: right;\n",
       "    }\n",
       "</style>\n",
       "<table border=\"1\" class=\"dataframe\">\n",
       "  <thead>\n",
       "    <tr style=\"text-align: right;\">\n",
       "      <th></th>\n",
       "      <th>station</th>\n",
       "      <th>date</th>\n",
       "      <th>prcp</th>\n",
       "      <th>tobs</th>\n",
       "    </tr>\n",
       "  </thead>\n",
       "  <tbody>\n",
       "    <tr>\n",
       "      <th>305</th>\n",
       "      <td>USC00519397</td>\n",
       "      <td>2010-12-01</td>\n",
       "      <td>0.04</td>\n",
       "      <td>76</td>\n",
       "    </tr>\n",
       "    <tr>\n",
       "      <th>306</th>\n",
       "      <td>USC00519397</td>\n",
       "      <td>2010-12-03</td>\n",
       "      <td>0.00</td>\n",
       "      <td>74</td>\n",
       "    </tr>\n",
       "    <tr>\n",
       "      <th>307</th>\n",
       "      <td>USC00519397</td>\n",
       "      <td>2010-12-04</td>\n",
       "      <td>0.00</td>\n",
       "      <td>74</td>\n",
       "    </tr>\n",
       "    <tr>\n",
       "      <th>308</th>\n",
       "      <td>USC00519397</td>\n",
       "      <td>2010-12-06</td>\n",
       "      <td>0.00</td>\n",
       "      <td>64</td>\n",
       "    </tr>\n",
       "    <tr>\n",
       "      <th>309</th>\n",
       "      <td>USC00519397</td>\n",
       "      <td>2010-12-07</td>\n",
       "      <td>0.00</td>\n",
       "      <td>64</td>\n",
       "    </tr>\n",
       "  </tbody>\n",
       "</table>\n",
       "</div>"
      ],
      "text/plain": [
       "         station        date  prcp  tobs\n",
       "305  USC00519397  2010-12-01  0.04    76\n",
       "306  USC00519397  2010-12-03  0.00    74\n",
       "307  USC00519397  2010-12-04  0.00    74\n",
       "308  USC00519397  2010-12-06  0.00    64\n",
       "309  USC00519397  2010-12-07  0.00    64"
      ]
     },
     "execution_count": 25,
     "metadata": {},
     "output_type": "execute_result"
    }
   ],
   "source": [
    "#December temperature\n",
    "dec_df = measurement_df[pd.to_datetime(measurement_df[\"date\"]).dt.month == 12]\n",
    "dec_df.head()"
   ]
  },
  {
   "cell_type": "code",
   "execution_count": 26,
   "metadata": {},
   "outputs": [
    {
     "name": "stdout",
     "output_type": "stream",
     "text": [
      "count    1517.000000\n",
      "mean       71.041529\n",
      "std         3.745920\n",
      "min        56.000000\n",
      "25%        69.000000\n",
      "50%        71.000000\n",
      "75%        74.000000\n",
      "max        83.000000\n",
      "Name: tobs, dtype: float64\n"
     ]
    }
   ],
   "source": [
    "#Average temp for December\n",
    "print(dec_df[\"tobs\"].describe())\n",
    "dec_ave = dec_df[\"tobs\"].mean()"
   ]
  },
  {
   "cell_type": "markdown",
   "metadata": {},
   "source": [
    "#### t-test\n",
    "A paired t-test should be used since we are comparing the temperature of the same group at different time\n",
    "\n",
    "H0: The difference between June and December temperature accross years is not significant.\n",
    "Ha: The difference between June and December temperature accross years is significant."
   ]
  },
  {
   "cell_type": "code",
   "execution_count": 27,
   "metadata": {},
   "outputs": [],
   "source": [
    "from scipy import stats"
   ]
  },
  {
   "cell_type": "code",
   "execution_count": 28,
   "metadata": {},
   "outputs": [
    {
     "data": {
      "image/png": "[encoded data removed]",
      "text/plain": [
       "<Figure size 432x288 with 1 Axes>"
      ]
     },
     "metadata": {
      "needs_background": "light"
     },
     "output_type": "display_data"
    }
   ],
   "source": [
    "#Check for any significant outliers in each of the variables\n",
    "boxplot_data = [june_df[\"tobs\"],dec_df[\"tobs\"]]\n",
    "plt.boxplot(boxplot_data)\n",
    "plt.xticks(np.arange(1,3,1),(\"June temperature\", \"december temperature\"))\n",
    "plt.title(\"June and December temperature accross years\")\n",
    "plt.ylabel(\"temp(F)\")\n",
    "plt.savefig(\"Plots/June and December temperature.png\")"
   ]
  },
  {
   "cell_type": "markdown",
   "metadata": {},
   "source": [
    "Some significant outliers existing according to the boxplot of June and December temperature"
   ]
  },
  {
   "cell_type": "code",
   "execution_count": 29,
   "metadata": {},
   "outputs": [
    {
     "data": {
      "image/png": "[encoded data removed]",
      "text/plain": [
       "<Figure size 432x288 with 1 Axes>"
      ]
     },
     "metadata": {
      "needs_background": "light"
     },
     "output_type": "display_data"
    }
   ],
   "source": [
    "# Check for normality\n",
    "df = pd.merge(june_df,dec_df, how = \"outer\", on = \"station\", suffixes = (\"_june\",\"_dec\"))\n",
    "diff = df[\"tobs_june\"]-df[\"tobs_dec\"]\n",
    "\n",
    "stats.probplot(diff, plot = plt)\n",
    "plt.title(\"temperature difference Q-Q plot\")\n",
    "plt.savefig(\"Plots/temperature difference Q-Q plot.png\")"
   ]
  },
  {
   "cell_type": "code",
   "execution_count": 30,
   "metadata": {},
   "outputs": [
    {
     "name": "stderr",
     "output_type": "stream",
     "text": [
      "/Users/peirangxu/anaconda3/lib/python3.7/site-packages/scipy/stats/morestats.py:1660: UserWarning: p-value may not be accurate for N > 5000.\n",
      "  warnings.warn(\"p-value may not be accurate for N > 5000.\")\n"
     ]
    },
    {
     "data": {
      "text/plain": [
       "(0.9892497658729553, 0.0)"
      ]
     },
     "execution_count": 30,
     "metadata": {},
     "output_type": "execute_result"
    }
   ],
   "source": [
    "stats.shapiro(diff)"
   ]
  },
  {
   "cell_type": "markdown",
   "metadata": {},
   "source": [
    "p-value = 0.0 < 0.05, indicates strong evidence against the null hypothesis of normality"
   ]
  },
  {
   "cell_type": "markdown",
   "metadata": {},
   "source": [
    "There is some observable deviation from normality, but since the population sampled is not too small (N > 5000), so as stated by law of large numbers, the t statistics will converge to standard normal distribution, we ca"
   ]
  },
  {
   "cell_type": "code",
   "execution_count": 95,
   "metadata": {},
   "outputs": [
    {
     "data": {
      "text/plain": [
       "Ttest_indResult(statistic=449.5171872467687, pvalue=0.0)"
      ]
     },
     "execution_count": 95,
     "metadata": {},
     "output_type": "execute_result"
    }
   ],
   "source": [
    "stats.ttest_ind(df[\"tobs_june\"], df[\"tobs_dec\"])"
   ]
  },
  {
   "cell_type": "markdown",
   "metadata": {},
   "source": [
    "p-value = 0.0 < 0.05,indicates strong evidence against the null hypothesis. Therefore we accecpt the alternative hypothesis that the difference between June and December temperature accross years is significant."
   ]
  },
  {
   "cell_type": "markdown",
   "metadata": {},
   "source": [
    "#### Same analysis can be conducted for the means of June and Decemeber temperature"
   ]
  },
  {
   "cell_type": "code",
   "execution_count": 87,
   "metadata": {},
   "outputs": [
    {
     "data": {
      "text/plain": [
       "Ttest_indResult(statistic=nan, pvalue=nan)"
      ]
     },
     "execution_count": 87,
     "metadata": {},
     "output_type": "execute_result"
    }
   ],
   "source": [
    "stats.ttest_ind(june_ave, dec_ave,equal_var=False)"
   ]
  },
  {
   "cell_type": "code",
   "execution_count": 94,
   "metadata": {},
   "outputs": [
    {
     "data": {
      "text/plain": [
       "[(78.0),\n",
       " (74.0),\n",
       " (73.0),\n",
       " (77.0),\n",
       " (69.0),\n",
       " (76.0),\n",
       " (71.0),\n",
       " (74.0),\n",
       " (70.0),\n",
       " (76.0),\n",
       " (76.0),\n",
       " (72.0),\n",
       " (76.0),\n",
       " (70.0),\n",
       " (76.0),\n",
       " (71.0),\n",
       " (76.0),\n",
       " (78.0),\n",
       " (78.0),\n",
       " (75.0),\n",
       " (74.0),\n",
       " (77.0),\n",
       " (67.0),\n",
       " (76.0),\n",
       " (72.0),\n",
       " (78.0),\n",
       " (73.0),\n",
       " (76.0),\n",
       " (75.0),\n",
       " (73.0),\n",
       " (75.0),\n",
       " (70.0),\n",
       " (73.0),\n",
       " (72.0),\n",
       " (74.0),\n",
       " (68.0),\n",
       " (77.0),\n",
       " (74.0),\n",
       " (72.0),\n",
       " (73.0),\n",
       " (78.0),\n",
       " (76.0),\n",
       " (79.0),\n",
       " (79.0),\n",
       " (78.0),\n",
       " (75.0),\n",
       " (75.0),\n",
       " (73.0),\n",
       " (77.0),\n",
       " (77.0),\n",
       " (79.0),\n",
       " (74.0),\n",
       " (77.0),\n",
       " (75.0),\n",
       " (74.0),\n",
       " (76.0),\n",
       " (77.0),\n",
       " (71.0),\n",
       " (69.0),\n",
       " (75.0),\n",
       " (78.0),\n",
       " (75.0),\n",
       " (75.0),\n",
       " (79.0),\n",
       " (77.0),\n",
       " (73.0),\n",
       " (77.0),\n",
       " (71.0),\n",
       " (78.0),\n",
       " (75.0),\n",
       " (73.0),\n",
       " (79.0),\n",
       " (72.0),\n",
       " (78.0),\n",
       " (73.0),\n",
       " (80.0),\n",
       " (75.0),\n",
       " (79.0),\n",
       " (75.0),\n",
       " (75.0),\n",
       " (77.0),\n",
       " (72.0),\n",
       " (78.0),\n",
       " (75.0),\n",
       " (75.0),\n",
       " (78.0),\n",
       " (83.0),\n",
       " (76.0),\n",
       " (77.0),\n",
       " (76.0),\n",
       " (81.0),\n",
       " (75.0),\n",
       " (78.0),\n",
       " (75.0),\n",
       " (74.0),\n",
       " (70.0),\n",
       " (76.0),\n",
       " (74.0),\n",
       " (78.0),\n",
       " (78.0),\n",
       " (76.0),\n",
       " (74.0),\n",
       " (78.0),\n",
       " (79.0),\n",
       " (77.0),\n",
       " (77.0),\n",
       " (73.0),\n",
       " (73.0),\n",
       " (74.0),\n",
       " (70.0),\n",
       " (71.0),\n",
       " (76.0),\n",
       " (78.0),\n",
       " (74.0),\n",
       " (73.0),\n",
       " (76.0),\n",
       " (73.0),\n",
       " (75.0),\n",
       " (69.0),\n",
       " (76.0),\n",
       " (78.0),\n",
       " (74.0),\n",
       " (76.0),\n",
       " (77.0),\n",
       " (76.0),\n",
       " (70.0),\n",
       " (74.0),\n",
       " (73.0),\n",
       " (77.0),\n",
       " (75.0),\n",
       " (75.0),\n",
       " (76.0),\n",
       " (75.0),\n",
       " (75.0),\n",
       " (72.0),\n",
       " (78.0),\n",
       " (73.0),\n",
       " (77.0),\n",
       " (70.0),\n",
       " (70.0),\n",
       " (73.0),\n",
       " (70.0),\n",
       " (73.0),\n",
       " (71.0),\n",
       " (72.0),\n",
       " (82.0),\n",
       " (74.0),\n",
       " (75.0),\n",
       " (74.0),\n",
       " (76.0),\n",
       " (77.0),\n",
       " (78.0),\n",
       " (74.0),\n",
       " (78.0),\n",
       " (75.0),\n",
       " (73.0),\n",
       " (77.0),\n",
       " (78.0),\n",
       " (76.0),\n",
       " (85.0),\n",
       " (78.0),\n",
       " (75.0),\n",
       " (74.0),\n",
       " (76.0),\n",
       " (76.0),\n",
       " (74.0),\n",
       " (77.0),\n",
       " (78.0),\n",
       " (75.0),\n",
       " (74.0),\n",
       " (77.0),\n",
       " (69.0),\n",
       " (79.0),\n",
       " (74.0),\n",
       " (76.0),\n",
       " (72.0),\n",
       " (78.0),\n",
       " (75.0),\n",
       " (74.0),\n",
       " (77.0),\n",
       " (73.0),\n",
       " (77.0),\n",
       " (74.0),\n",
       " (76.0),\n",
       " (72.0),\n",
       " (78.0),\n",
       " (75.0),\n",
       " (74.0),\n",
       " (78.0),\n",
       " (73.0),\n",
       " (76.0),\n",
       " (74.0),\n",
       " (75.0),\n",
       " (72.0),\n",
       " (77.0),\n",
       " (74.0),\n",
       " (70.0),\n",
       " (77.0),\n",
       " (74.0),\n",
       " (74.0),\n",
       " (71.0),\n",
       " (71.0),\n",
       " (70.0),\n",
       " (76.0),\n",
       " (72.0),\n",
       " (75.0),\n",
       " (80.0),\n",
       " (70.0),\n",
       " (69.0),\n",
       " (78.0),\n",
       " (76.0),\n",
       " (75.0),\n",
       " (77.0),\n",
       " (80.0),\n",
       " (73.0),\n",
       " (78.0),\n",
       " (73.0),\n",
       " (74.0),\n",
       " (76.0),\n",
       " (73.0),\n",
       " (76.0),\n",
       " (72.0),\n",
       " (77.0),\n",
       " (71.0),\n",
       " (78.0),\n",
       " (75.0),\n",
       " (73.0),\n",
       " (78.0),\n",
       " (72.0),\n",
       " (76.0),\n",
       " (72.0),\n",
       " (70.0),\n",
       " (73.0),\n",
       " (78.0),\n",
       " (76.0),\n",
       " (74.0),\n",
       " (78.0),\n",
       " (75.0),\n",
       " (76.0),\n",
       " (73.0),\n",
       " (73.0),\n",
       " (72.0),\n",
       " (77.0),\n",
       " (74.0),\n",
       " (72.0),\n",
       " (75.0),\n",
       " (79.0),\n",
       " (72.0),\n",
       " (73.0),\n",
       " (69.0),\n",
       " (78.0),\n",
       " (75.0),\n",
       " (73.0),\n",
       " (77.0),\n",
       " (76.0),\n",
       " (73.0),\n",
       " (76.0),\n",
       " (72.0),\n",
       " (73.0),\n",
       " (71.0),\n",
       " (67.0),\n",
       " (65.0),\n",
       " (72.0),\n",
       " (73.0),\n",
       " (70.0),\n",
       " (66.0),\n",
       " (70.0),\n",
       " (69.0),\n",
       " (69.0),\n",
       " (71.0),\n",
       " (71.0),\n",
       " (67.0),\n",
       " (76.0),\n",
       " (69.0),\n",
       " (76.0),\n",
       " (72.0),\n",
       " (80.0),\n",
       " (71.0),\n",
       " (77.0),\n",
       " (74.0),\n",
       " (73.0),\n",
       " (76.0),\n",
       " (76.0),\n",
       " (70.0),\n",
       " (71.0),\n",
       " (77.0),\n",
       " (71.0),\n",
       " (70.0),\n",
       " (74.0),\n",
       " (74.0),\n",
       " (68.0),\n",
       " (72.0),\n",
       " (77.0),\n",
       " (74.0),\n",
       " (72.0),\n",
       " (76.0),\n",
       " (73.0),\n",
       " (75.0),\n",
       " (77.0),\n",
       " (74.0),\n",
       " (72.0),\n",
       " (77.0),\n",
       " (74.0),\n",
       " (74.0),\n",
       " (76.0),\n",
       " (76.0),\n",
       " (76.0),\n",
       " (76.0),\n",
       " (75.0),\n",
       " (71.0),\n",
       " (78.0),\n",
       " (75.0),\n",
       " (72.0),\n",
       " (77.0),\n",
       " (79.0),\n",
       " (75.0),\n",
       " (71.0),\n",
       " (77.0),\n",
       " (73.0),\n",
       " (76.0),\n",
       " (78.0),\n",
       " (78.0),\n",
       " (71.0),\n",
       " (77.0),\n",
       " (73.0),\n",
       " (74.0),\n",
       " (75.0),\n",
       " (82.0),\n",
       " (76.0),\n",
       " (69.0),\n",
       " (78.0),\n",
       " (73.0),\n",
       " (72.0),\n",
       " (77.0),\n",
       " (76.0),\n",
       " (76.0),\n",
       " (79.0),\n",
       " (69.0),\n",
       " (68.0),\n",
       " (78.0),\n",
       " (75.0),\n",
       " (75.0),\n",
       " (77.0),\n",
       " (73.0),\n",
       " (76.0),\n",
       " (76.0),\n",
       " (73.0),\n",
       " (71.0),\n",
       " (77.0),\n",
       " (75.0),\n",
       " (73.0),\n",
       " (76.0),\n",
       " (76.0),\n",
       " (76.0),\n",
       " (74.0),\n",
       " (76.0),\n",
       " (73.0),\n",
       " (74.0),\n",
       " (73.0),\n",
       " (77.0),\n",
       " (76.0),\n",
       " (75.0),\n",
       " (74.0),\n",
       " (72.0),\n",
       " (72.0),\n",
       " (78.0),\n",
       " (74.0),\n",
       " (72.0),\n",
       " (76.0),\n",
       " (76.0),\n",
       " (73.0),\n",
       " (72.0),\n",
       " (74.0),\n",
       " (78.0),\n",
       " (75.0),\n",
       " (74.0),\n",
       " (76.0),\n",
       " (79.0),\n",
       " (80.0),\n",
       " (70.0),\n",
       " (75.0),\n",
       " (74.0),\n",
       " (76.0),\n",
       " (79.0),\n",
       " (77.0),\n",
       " (76.0),\n",
       " (72.0),\n",
       " (76.0),\n",
       " (73.0),\n",
       " (77.0),\n",
       " (78.0),\n",
       " (74.0),\n",
       " (73.0),\n",
       " (71.0),\n",
       " (71.0),\n",
       " (76.0),\n",
       " (72.0),\n",
       " (72.0),\n",
       " (74.0),\n",
       " (75.0),\n",
       " (73.0),\n",
       " (72.0),\n",
       " (68.0),\n",
       " (71.0),\n",
       " (74.0),\n",
       " (74.0),\n",
       " (76.0),\n",
       " (77.0),\n",
       " (75.0),\n",
       " (72.0),\n",
       " (71.0),\n",
       " (70.0),\n",
       " (72.0),\n",
       " (70.0),\n",
       " (73.0),\n",
       " (74.0),\n",
       " (73.0),\n",
       " (72.0),\n",
       " (70.0),\n",
       " (77.0),\n",
       " (75.0),\n",
       " (74.0),\n",
       " (75.0),\n",
       " (75.0),\n",
       " (74.0),\n",
       " (75.0),\n",
       " (69.0),\n",
       " (78.0),\n",
       " (76.0),\n",
       " (74.0),\n",
       " (76.0),\n",
       " (77.0),\n",
       " (80.0),\n",
       " (74.0),\n",
       " (76.0),\n",
       " (74.0),\n",
       " (72.0),\n",
       " (73.0),\n",
       " (75.0),\n",
       " (69.0),\n",
       " (77.0),\n",
       " (74.0),\n",
       " (74.0),\n",
       " (76.0),\n",
       " (74.0),\n",
       " (73.0),\n",
       " (74.0),\n",
       " (72.0),\n",
       " (75.0),\n",
       " (74.0),\n",
       " (71.0),\n",
       " (75.0),\n",
       " (74.0),\n",
       " (72.0),\n",
       " (74.0),\n",
       " (70.0),\n",
       " (77.0),\n",
       " (74.0),\n",
       " (76.0),\n",
       " (75.0),\n",
       " (72.0),\n",
       " (69.0),\n",
       " (72.0),\n",
       " (74.0),\n",
       " (75.0),\n",
       " (75.0),\n",
       " (67.0),\n",
       " (70.0),\n",
       " (72.0),\n",
       " (76.0),\n",
       " (71.0),\n",
       " (74.0),\n",
       " (75.0),\n",
       " (74.0),\n",
       " (71.0),\n",
       " (73.0),\n",
       " (69.0),\n",
       " (76.0),\n",
       " (71.0),\n",
       " (75.0),\n",
       " (73.0),\n",
       " (76.0),\n",
       " (73.0),\n",
       " (75.0),\n",
       " (75.0),\n",
       " (77.0),\n",
       " (78.0),\n",
       " (76.0),\n",
       " (71.0),\n",
       " (77.0),\n",
       " (72.0),\n",
       " (74.0),\n",
       " (75.0),\n",
       " (71.0),\n",
       " (74.0),\n",
       " (72.0),\n",
       " (77.0),\n",
       " (72.0),\n",
       " (74.0),\n",
       " (74.0),\n",
       " (72.0),\n",
       " (71.0),\n",
       " (71.0),\n",
       " (76.0),\n",
       " (73.0),\n",
       " (74.0),\n",
       " (75.0),\n",
       " (70.0),\n",
       " (72.0),\n",
       " (72.0),\n",
       " (78.0),\n",
       " (73.0),\n",
       " (76.0),\n",
       " (74.0),\n",
       " (72.0),\n",
       " (73.0),\n",
       " (71.0),\n",
       " (77.0),\n",
       " (73.0),\n",
       " (76.0),\n",
       " (75.0),\n",
       " (73.0),\n",
       " (77.0),\n",
       " (74.0),\n",
       " (76.0),\n",
       " (74.0),\n",
       " (73.0),\n",
       " (74.0),\n",
       " (77.0),\n",
       " (74.0),\n",
       " (77.0),\n",
       " (73.0),\n",
       " (75.0),\n",
       " (81.0),\n",
       " (77.0),\n",
       " (75.0),\n",
       " (76.0),\n",
       " (72.0),\n",
       " (76.0),\n",
       " (72.0),\n",
       " (79.0),\n",
       " (69.0),\n",
       " (76.0),\n",
       " (72.0),\n",
       " (77.0),\n",
       " (76.0),\n",
       " (77.0),\n",
       " (77.0),\n",
       " (75.0),\n",
       " (77.0),\n",
       " (70.0),\n",
       " (77.0),\n",
       " (76.0),\n",
       " (69.0),\n",
       " (77.0),\n",
       " (70.0),\n",
       " (77.0),\n",
       " (72.0),\n",
       " (78.0),\n",
       " (73.0),\n",
       " (79.0),\n",
       " (69.0),\n",
       " (78.0),\n",
       " (73.0),\n",
       " (78.0),\n",
       " (72.0),\n",
       " (73.0),\n",
       " (74.0),\n",
       " (69.0),\n",
       " (72.0),\n",
       " (77.0),\n",
       " (72.0),\n",
       " (78.0),\n",
       " (78.0),\n",
       " (78.0),\n",
       " (70.0),\n",
       " (77.0),\n",
       " (74.0),\n",
       " (80.0),\n",
       " (78.0),\n",
       " (81.0),\n",
       " (73.0),\n",
       " (77.0),\n",
       " (73.0),\n",
       " (75.0),\n",
       " (75.0),\n",
       " (73.0),\n",
       " (76.0),\n",
       " (71.0),\n",
       " (76.0),\n",
       " (73.0),\n",
       " (72.0),\n",
       " (72.0),\n",
       " (72.0),\n",
       " (74.0),\n",
       " (70.0),\n",
       " (75.0),\n",
       " (70.0),\n",
       " (76.0),\n",
       " (72.0),\n",
       " (71.0),\n",
       " (71.0),\n",
       " (69.0),\n",
       " (76.0),\n",
       " (73.0),\n",
       " (75.0),\n",
       " (76.0),\n",
       " (76.0),\n",
       " (74.0),\n",
       " (72.0),\n",
       " (78.0),\n",
       " (71.0),\n",
       " (76.0),\n",
       " (72.0),\n",
       " (75.0),\n",
       " (73.0),\n",
       " (78.0),\n",
       " (72.0),\n",
       " (71.0),\n",
       " (77.0),\n",
       " (73.0),\n",
       " (76.0),\n",
       " (73.0),\n",
       " (76.0),\n",
       " (68.0),\n",
       " (76.0),\n",
       " (69.0),\n",
       " (76.0),\n",
       " (77.0),\n",
       " (71.0),\n",
       " (81.0),\n",
       " (68.0),\n",
       " (73.0),\n",
       " (72.0),\n",
       " (77.0),\n",
       " (74.0),\n",
       " (72.0),\n",
       " (70.0),\n",
       " (73.0),\n",
       " (68.0),\n",
       " (73.0),\n",
       " (71.0),\n",
       " (75.0),\n",
       " (72.0),\n",
       " (71.0),\n",
       " (72.0),\n",
       " (71.0),\n",
       " (72.0),\n",
       " (69.0),\n",
       " (75.0),\n",
       " (71.0),\n",
       " (74.0),\n",
       " (76.0),\n",
       " (73.0),\n",
       " (68.0),\n",
       " (72.0),\n",
       " (69.0),\n",
       " (77.0),\n",
       " (73.0),\n",
       " (75.0),\n",
       " (76.0),\n",
       " (75.0),\n",
       " (72.0),\n",
       " (74.0),\n",
       " (69.0),\n",
       " (76.0),\n",
       " (73.0),\n",
       " (76.0),\n",
       " (76.0),\n",
       " (71.0),\n",
       " (79.0),\n",
       " (71.0),\n",
       " (72.0),\n",
       " (71.0),\n",
       " (77.0),\n",
       " (72.0),\n",
       " (78.0),\n",
       " (81.0),\n",
       " (78.0),\n",
       " (79.0),\n",
       " (79.0),\n",
       " (75.0),\n",
       " (76.0),\n",
       " (81.0),\n",
       " (80.0),\n",
       " (78.0),\n",
       " (78.0),\n",
       " (75.0),\n",
       " (76.0),\n",
       " (74.0),\n",
       " (81.0),\n",
       " (72.0),\n",
       " (79.0),\n",
       " (75.0),\n",
       " (78.0),\n",
       " (78.0),\n",
       " (77.0),\n",
       " (74.0),\n",
       " (75.0),\n",
       " (73.0),\n",
       " (78.0),\n",
       " (75.0),\n",
       " (76.0),\n",
       " (78.0),\n",
       " (78.0),\n",
       " (73.0),\n",
       " (80.0),\n",
       " (71.0),\n",
       " (78.0),\n",
       " (74.0),\n",
       " (78.0),\n",
       " (78.0),\n",
       " (79.0),\n",
       " (73.0),\n",
       " (73.0),\n",
       " (72.0),\n",
       " (79.0),\n",
       " (74.0),\n",
       " (76.0),\n",
       " (78.0),\n",
       " (79.0),\n",
       " (72.0),\n",
       " (74.0),\n",
       " (72.0),\n",
       " (77.0),\n",
       " (74.0),\n",
       " (76.0),\n",
       " (75.0),\n",
       " (75.0),\n",
       " (73.0),\n",
       " (73.0),\n",
       " (71.0),\n",
       " (77.0),\n",
       " (75.0),\n",
       " (78.0),\n",
       " (79.0),\n",
       " (77.0),\n",
       " (81.0),\n",
       " (74.0),\n",
       " (77.0),\n",
       " (75.0),\n",
       " (79.0),\n",
       " (79.0),\n",
       " (73.0),\n",
       " (79.0),\n",
       " (71.0),\n",
       " (77.0),\n",
       " (74.0),\n",
       " (77.0),\n",
       " (77.0),\n",
       " (75.0),\n",
       " (73.0),\n",
       " (78.0),\n",
       " (72.0),\n",
       " (77.0),\n",
       " (75.0),\n",
       " (76.0),\n",
       " (77.0),\n",
       " (75.0),\n",
       " (74.0),\n",
       " (72.0),\n",
       " (78.0),\n",
       " (75.0),\n",
       " (77.0),\n",
       " (73.0),\n",
       " (81.0),\n",
       " (72.0),\n",
       " (74.0),\n",
       " (74.0),\n",
       " (77.0),\n",
       " (74.0),\n",
       " (77.0),\n",
       " (78.0),\n",
       " (76.0),\n",
       " (72.0),\n",
       " (73.0),\n",
       " (72.0),\n",
       " (76.0),\n",
       " (72.0),\n",
       " (76.0),\n",
       " (75.0),\n",
       " (75.0),\n",
       " (73.0),\n",
       " (73.0),\n",
       " (69.0),\n",
       " (78.0),\n",
       " (74.0),\n",
       " (78.0),\n",
       " (73.0),\n",
       " (77.0),\n",
       " (70.0),\n",
       " (78.0),\n",
       " (74.0),\n",
       " (78.0),\n",
       " (81.0),\n",
       " (75.0),\n",
       " (77.0),\n",
       " (76.0),\n",
       " (77.0),\n",
       " (74.0),\n",
       " (76.0),\n",
       " (73.0),\n",
       " (76.0),\n",
       " (72.0),\n",
       " (74.0),\n",
       " (70.0),\n",
       " (78.0),\n",
       " (74.0),\n",
       " (76.0),\n",
       " (77.0),\n",
       " (76.0),\n",
       " (73.0),\n",
       " (73.0),\n",
       " (71.0),\n",
       " (78.0),\n",
       " (74.0),\n",
       " (77.0),\n",
       " (80.0),\n",
       " (76.0),\n",
       " (70.0),\n",
       " (70.0),\n",
       " (73.0),\n",
       " (73.0),\n",
       " (72.0),\n",
       " (71.0),\n",
       " (70.0),\n",
       " (72.0),\n",
       " (69.0),\n",
       " (69.0),\n",
       " (68.0),\n",
       " (76.0),\n",
       " (70.0),\n",
       " (78.0),\n",
       " (73.0),\n",
       " (68.0),\n",
       " (72.0),\n",
       " (68.0),\n",
       " (77.0),\n",
       " (75.0),\n",
       " (74.0),\n",
       " (75.0),\n",
       " (79.0),\n",
       " (69.0),\n",
       " (75.0),\n",
       " (74.0),\n",
       " (74.0),\n",
       " (74.0),\n",
       " (77.0),\n",
       " (70.0),\n",
       " (76.0),\n",
       " (71.0),\n",
       " (75.0),\n",
       " (73.0),\n",
       " (70.0),\n",
       " (69.0),\n",
       " (74.0),\n",
       " (71.0),\n",
       " (74.0),\n",
       " (72.0),\n",
       " (73.0),\n",
       " (70.0),\n",
       " (71.0),\n",
       " (69.0),\n",
       " (75.0),\n",
       " (70.0),\n",
       " (72.0),\n",
       " (78.0),\n",
       " (73.0),\n",
       " (70.0),\n",
       " (67.0),\n",
       " (70.0),\n",
       " (77.0),\n",
       " (73.0),\n",
       " (77.0),\n",
       " (72.0),\n",
       " (76.0),\n",
       " (71.0),\n",
       " (66.0),\n",
       " (71.0),\n",
       " (76.0),\n",
       " (71.0),\n",
       " (78.0),\n",
       " (70.0),\n",
       " (78.0),\n",
       " (70.0),\n",
       " (77.0),\n",
       " (71.0),\n",
       " (73.0),\n",
       " (70.0),\n",
       " (80.0),\n",
       " (67.0),\n",
       " (78.0),\n",
       " (77.0),\n",
       " (79.0),\n",
       " (75.0),\n",
       " (80.0),\n",
       " (72.0),\n",
       " (79.0),\n",
       " (77.0),\n",
       " (77.0),\n",
       " (78.0),\n",
       " (74.0),\n",
       " (79.0),\n",
       " (72.0),\n",
       " (77.0),\n",
       " (74.0),\n",
       " (78.0),\n",
       " (77.0),\n",
       " (76.0),\n",
       " (72.0),\n",
       " (68.0),\n",
       " (75.0),\n",
       " (78.0),\n",
       " (73.0),\n",
       " (77.0),\n",
       " (79.0),\n",
       " (74.0),\n",
       " (67.0),\n",
       " (73.0),\n",
       " (79.0),\n",
       " (75.0),\n",
       " (77.0),\n",
       " (77.0),\n",
       " (76.0),\n",
       " (73.0),\n",
       " (71.0),\n",
       " (73.0),\n",
       " (78.0),\n",
       " (75.0),\n",
       " (76.0),\n",
       " (78.0),\n",
       " (76.0),\n",
       " (73.0),\n",
       " (72.0),\n",
       " (78.0),\n",
       " (74.0),\n",
       " (75.0),\n",
       " (74.0),\n",
       " (77.0),\n",
       " (70.0),\n",
       " (72.0),\n",
       " (71.0),\n",
       " (78.0),\n",
       " (74.0),\n",
       " (79.0),\n",
       " (79.0),\n",
       " (73.0),\n",
       " (79.0),\n",
       " (77.0),\n",
       " (78.0),\n",
       " (75.0),\n",
       " (80.0),\n",
       " (75.0),\n",
       " (80.0),\n",
       " (73.0),\n",
       " (79.0),\n",
       " (75.0),\n",
       " (75.0),\n",
       " (79.0),\n",
       " (78.0),\n",
       " (73.0),\n",
       " (72.0),\n",
       " (70.0),\n",
       " (79.0),\n",
       " (72.0),\n",
       " (73.0),\n",
       " (79.0),\n",
       " (76.0),\n",
       " (69.0),\n",
       " (68.0),\n",
       " (70.0),\n",
       " (82.0),\n",
       " (74.0),\n",
       " (76.0),\n",
       " (78.0),\n",
       " (80.0),\n",
       " (84.0),\n",
       " (76.0),\n",
       " (80.0),\n",
       " (76.0),\n",
       " (78.0),\n",
       " (79.0),\n",
       " (78.0),\n",
       " (73.0),\n",
       " (82.0),\n",
       " (72.0),\n",
       " (79.0),\n",
       " (76.0),\n",
       " (77.0),\n",
       " (79.0),\n",
       " (77.0),\n",
       " (72.0),\n",
       " (79.0),\n",
       " (73.0),\n",
       " (79.0),\n",
       " (75.0),\n",
       " (78.0),\n",
       " (79.0),\n",
       " (80.0),\n",
       " (78.0),\n",
       " ...]"
      ]
     },
     "execution_count": 94,
     "metadata": {},
     "output_type": "execute_result"
    }
   ],
   "source": [
    "month_str1=\"06\"\n",
    "temp_jun=session.query(Measurement.tobs).\\\n",
    "    filter(func.strftime(\"%m\",Measurement.date)== month_str1).\\\n",
    "    order_by(Measurement.date).all()\n",
    "temp_jun_avg = np.mean(temp_jun)\n",
    "temp_jun_sem = stats.sem(np.ravel(temp_jun))\n",
    "\n",
    "\n",
    "month_str2=\"12\"\n",
    "temp_dec=session.query(Measurement.tobs).\\\n",
    "    filter(func.strftime(\"%m\",Measurement.date)== month_str2).\\\n",
    "    order_by(Measurement.date).all()\n",
    "temp_dec_avg = np.mean(temp_dec)\n",
    "temp_dec_sem = stats.sem(np.ravel(temp_dec))\n",
    "\n",
    "means=[temp_jun_avg, temp_dec_avg]\n",
    "sems =[temp_jun_sem, temp_dec_sem]\n",
    "labels = [\"June Average Temperature\",\"December Average Temperature\"]\n",
    "stats.ttest_ind(temp_jun, temp_dec, equal_var=False)\n",
    "temp_jun"
   ]
  },
  {
   "cell_type": "markdown",
   "metadata": {},
   "source": [
    "### Temperature Analysis II"
   ]
  },
  {
   "cell_type": "code",
   "execution_count": 32,
   "metadata": {},
   "outputs": [
    {
     "name": "stdout",
     "output_type": "stream",
     "text": [
      "[(62.0, 69.57142857142857, 74.0)]\n"
     ]
    }
   ],
   "source": [
    "# This function called `calc_temps` will accept start date and end date in the format '%Y-%m-%d' \n",
    "# and return the minimum, average, and maximum temperatures for that range of dates\n",
    "def calc_temps(start_date, end_date):\n",
    "    \"\"\"TMIN, TAVG, and TMAX for a list of dates.\n",
    "    \n",
    "    Args:\n",
    "        start_date (string): A date string in the format %Y-%m-%d\n",
    "        end_date (string): A date string in the format %Y-%m-%d\n",
    "        \n",
    "    Returns:\n",
    "        TMIN, TAVE, and TMAX\n",
    "    \"\"\"\n",
    "    return session.query(func.min(Measurement.tobs), func.avg(Measurement.tobs), func.max(Measurement.tobs)).\\\n",
    "        filter(Measurement.date >= start_date).filter(Measurement.date <= end_date).all()\n",
    "\n",
    "# function usage example\n",
    "print(calc_temps('2012-02-28', '2012-03-05'))"
   ]
  },
  {
   "cell_type": "code",
   "execution_count": 33,
   "metadata": {},
   "outputs": [
    {
     "data": {
      "text/plain": [
       "[58.0, 74.14387974230493, 87.0]"
      ]
     },
     "execution_count": 33,
     "metadata": {},
     "output_type": "execute_result"
    }
   ],
   "source": [
    "def start(date):\n",
    "    # Create our session (link) from Python to the DB\n",
    "\n",
    "    \"\"\"Return a list of all percipitation\"\"\"\n",
    "    # Query all passengers\n",
    "\n",
    "    sel = [func.min(Measurement.tobs), func.avg(Measurement.tobs), func.max(Measurement.tobs)]\n",
    "    results = session.query(*sel).filter(Measurement.date >= date).all()\n",
    "    \n",
    "\n",
    "    # Convert list of tuples into normal list\n",
    "    startonly = list(np.ravel(results))\n",
    "\n",
    "    return startonly\n",
    "start(\"2017-01-01\")"
   ]
  },
  {
   "cell_type": "code",
   "execution_count": 34,
   "metadata": {},
   "outputs": [
    {
     "name": "stdout",
     "output_type": "stream",
     "text": [
      "[(68.0, 72.9090909090909, 78.0)]\n"
     ]
    }
   ],
   "source": [
    "# Use your previous function `calc_temps` to calculate the tmin, tavg, and tmax \n",
    "# for your trip using the previous year's data for those same dates.\n",
    "start_date = dt.datetime(2018,3,1)\n",
    "end_date = dt.datetime(2018,3,5)\n",
    "steps = dt.timedelta(365)\n",
    "print(calc_temps(start_date-steps, end_date-steps))"
   ]
  },
  {
   "cell_type": "code",
   "execution_count": 35,
   "metadata": {},
   "outputs": [
    {
     "data": {
      "image/png": "[encoded data removed]",
      "text/plain": [
       "<Figure size 288x432 with 1 Axes>"
      ]
     },
     "metadata": {
      "needs_background": "light"
     },
     "output_type": "display_data"
    }
   ],
   "source": [
    "# Plot the results from your previous query as a bar chart. \n",
    "# Use \"Trip Avg Temp\" as your Title\n",
    "# Use the average temperature for the y value\n",
    "# Use the peak-to-peak (tmax-tmin) value as the y error bar (yerr)\n",
    "tstats = calc_temps(start_date-steps, end_date-steps)\n",
    "tstats_df = pd.DataFrame(tstats, columns = [\"min\", \"ave\", \"max\"])\n",
    "ave_df = tstats_df[\"ave\"]\n",
    "\n",
    "plt.figure(figsize = (4,6))\n",
    "ave_df.plot.bar(yerr = tstats_df[\"max\"]-tstats_df[\"min\"], title = \"Trip Average Temp\",\n",
    "               alpha = 0.5, color = \"coral\")\n",
    "plt.xticks([])\n",
    "plt.ylabel(\"Temp(F)\")\n",
    "plt.savefig(\"Plots/Trip Average Temp.png\")"
   ]
  },
  {
   "cell_type": "code",
   "execution_count": 83,
   "metadata": {},
   "outputs": [
    {
     "data": {
      "text/plain": [
       "[('USC00519523',\n",
       "  'WAIMANALO EXPERIMENTAL FARM, HI US',\n",
       "  21.33556,\n",
       "  -157.71139,\n",
       "  19.5,\n",
       "  0.1525),\n",
       " ('USC00514830',\n",
       "  'KUALOA RANCH HEADQUARTERS 886.9, HI US',\n",
       "  21.5213,\n",
       "  -157.8374,\n",
       "  7.0,\n",
       "  0.08571428571428572),\n",
       " ('USC00516128',\n",
       "  'MANOA LYON ARBO 785.2, HI US',\n",
       "  21.3331,\n",
       "  -157.8025,\n",
       "  152.4,\n",
       "  0.08571428571428572),\n",
       " ('USC00513117',\n",
       "  'KANEOHE 838.1, HI US',\n",
       "  21.4234,\n",
       "  -157.8015,\n",
       "  14.6,\n",
       "  0.049999999999999996),\n",
       " ('USC00519281',\n",
       "  'WAIHEE 837.5, HI US',\n",
       "  21.45167,\n",
       "  -157.84888999999998,\n",
       "  32.9,\n",
       "  0.028571428571428574),\n",
       " ('USC00519397', 'WAIKIKI 717.2, HI US', 21.2716, -157.8168, 3.0, 0.0)]"
      ]
     },
     "execution_count": 83,
     "metadata": {},
     "output_type": "execute_result"
    }
   ],
   "source": [
    "# Calculate the total amount of rainfall per weather station for your trip dates using the previous year's matching dates.\n",
    "# Sort this in descending order by precipitation amount and list the station, name, latitude, longitude, and elevation\n",
    "rainfall = session.query(Station.station,Station.name,Station.latitude,Station.longitude,Station.elevation,\n",
    "                         func.avg(Measurement.prcp)).\\\n",
    "    filter(Measurement.station == Station.station).\\\n",
    "    filter(Measurement.date >=  \"2017-01-01\").\\\n",
    "    filter(Measurement.date <= \"2017-01-07\").group_by(Station.station).\\\n",
    "    order_by(func.avg(Measurement.prcp).desc()).all()\n",
    "rainfall"
   ]
  },
  {
   "cell_type": "markdown",
   "metadata": {},
   "source": [
    "### Daily Rainfall Average"
   ]
  },
  {
   "cell_type": "code",
   "execution_count": 37,
   "metadata": {},
   "outputs": [
    {
     "data": {
      "text/plain": [
       "[(62.0, 69.15384615384616, 77.0)]"
      ]
     },
     "execution_count": 37,
     "metadata": {},
     "output_type": "execute_result"
    }
   ],
   "source": [
    "# Create a query that will calculate the daily normals \n",
    "# (i.e. the averages for tmin, tmax, and tavg for all historic data matching a specific month and day)\n",
    "\n",
    "def daily_normals(date):\n",
    "    \"\"\"Daily Normals.\n",
    "    \n",
    "    Args:\n",
    "        date (str): A date string in the format '%m-%d'\n",
    "        \n",
    "    Returns:\n",
    "        A list of tuples containing the daily normals, tmin, tavg, and tmax\n",
    "    \n",
    "    \"\"\"\n",
    "    \n",
    "    sel = [func.min(Measurement.tobs), func.avg(Measurement.tobs), func.max(Measurement.tobs)]\n",
    "    return session.query(*sel).filter(func.strftime(\"%m-%d\", Measurement.date) == date).all()\n",
    "    \n",
    "daily_normals(\"01-01\")"
   ]
  },
  {
   "cell_type": "code",
   "execution_count": 38,
   "metadata": {},
   "outputs": [
    {
     "data": {
      "text/plain": [
       "[(62.0, 69.15384615384616, 77.0),\n",
       " (60.0, 69.39622641509433, 77.0),\n",
       " (62.0, 68.9090909090909, 77.0),\n",
       " (58.0, 70.0, 76.0),\n",
       " (56.0, 67.96428571428571, 76.0)]"
      ]
     },
     "execution_count": 38,
     "metadata": {},
     "output_type": "execute_result"
    }
   ],
   "source": [
    "# calculate the daily normals for your trip\n",
    "# push each tuple of calculations into a list called `normals`\n",
    "normals = []\n",
    "\n",
    "# Set the start and end date of the trip\n",
    "start_date = dt.date(2018,1,1)\n",
    "end_date = dt.date(2018,1,5)\n",
    "step = dt.timedelta(365)\n",
    "\n",
    "# Use the start and end date to create a range of dates\n",
    "dates = pd.date_range(start_date-step, end_date-step)\n",
    "\n",
    "# Stip off the year and save a list of %m-%d strings\n",
    "dates = dates.strftime(\"%m-%d\")\n",
    "\n",
    "# Loop through the list of %m-%d strings and calculate the normals for each date\n",
    "trip_normal = []\n",
    "for i in dates:\n",
    "    trip_normal.extend(daily_normals(i))\n",
    "trip_normal"
   ]
  },
  {
   "cell_type": "code",
   "execution_count": 39,
   "metadata": {},
   "outputs": [
    {
     "data": {
      "text/html": [
       "<div>\n",
       "<style scoped>\n",
       "    .dataframe tbody tr th:only-of-type {\n",
       "        vertical-align: middle;\n",
       "    }\n",
       "\n",
       "    .dataframe tbody tr th {\n",
       "        vertical-align: top;\n",
       "    }\n",
       "\n",
       "    .dataframe thead th {\n",
       "        text-align: right;\n",
       "    }\n",
       "</style>\n",
       "<table border=\"1\" class=\"dataframe\">\n",
       "  <thead>\n",
       "    <tr style=\"text-align: right;\">\n",
       "      <th></th>\n",
       "      <th>tmin</th>\n",
       "      <th>tave</th>\n",
       "      <th>tmax</th>\n",
       "    </tr>\n",
       "  </thead>\n",
       "  <tbody>\n",
       "    <tr>\n",
       "      <th>2018-01-01</th>\n",
       "      <td>62.0</td>\n",
       "      <td>69.153846</td>\n",
       "      <td>77.0</td>\n",
       "    </tr>\n",
       "    <tr>\n",
       "      <th>2018-01-02</th>\n",
       "      <td>60.0</td>\n",
       "      <td>69.396226</td>\n",
       "      <td>77.0</td>\n",
       "    </tr>\n",
       "    <tr>\n",
       "      <th>2018-01-03</th>\n",
       "      <td>62.0</td>\n",
       "      <td>68.909091</td>\n",
       "      <td>77.0</td>\n",
       "    </tr>\n",
       "    <tr>\n",
       "      <th>2018-01-04</th>\n",
       "      <td>58.0</td>\n",
       "      <td>70.000000</td>\n",
       "      <td>76.0</td>\n",
       "    </tr>\n",
       "    <tr>\n",
       "      <th>2018-01-05</th>\n",
       "      <td>56.0</td>\n",
       "      <td>67.964286</td>\n",
       "      <td>76.0</td>\n",
       "    </tr>\n",
       "  </tbody>\n",
       "</table>\n",
       "</div>"
      ],
      "text/plain": [
       "            tmin       tave  tmax\n",
       "2018-01-01  62.0  69.153846  77.0\n",
       "2018-01-02  60.0  69.396226  77.0\n",
       "2018-01-03  62.0  68.909091  77.0\n",
       "2018-01-04  58.0  70.000000  76.0\n",
       "2018-01-05  56.0  67.964286  76.0"
      ]
     },
     "execution_count": 39,
     "metadata": {},
     "output_type": "execute_result"
    }
   ],
   "source": [
    "# Load the previous query results into a Pandas DataFrame and add the `trip_dates` range as the `date` index\n",
    "trip_normal_df = pd.DataFrame(trip_normal, columns = [\"tmin\", \"tave\", \"tmax\"],\n",
    "                             index = pd.date_range(\"2018-01-01\",\"2018-01-05\").strftime(\"%Y-%m-%d\"))\n",
    "\n",
    "trip_normal_df"
   ]
  },
  {
   "cell_type": "code",
   "execution_count": 40,
   "metadata": {},
   "outputs": [
    {
     "data": {
      "text/plain": [
       "<Figure size 864x576 with 0 Axes>"
      ]
     },
     "metadata": {},
     "output_type": "display_data"
    },
    {
     "data": {
      "image/png": "[encoded data removed]",
      "text/plain": [
       "<Figure size 432x288 with 1 Axes>"
      ]
     },
     "metadata": {
      "needs_background": "light"
     },
     "output_type": "display_data"
    }
   ],
   "source": [
    "# Plot the daily normals as an area plot with `stacked=False`\n",
    "plt.figure(figsize = (12,8))\n",
    "trip_normal_df.plot.area(stacked = False, alpha = 0.2)\n",
    "plt.xticks(rotation = 45)\n",
    "plt.title(\"Area plot for daily normals of trip dates\")\n",
    "plt.ylabel(\"temp(F)\")\n",
    "plt.xlabel(\"Dates\")\n",
    "plt.savefig(\"Plots/Area plot for daily normals of trip dates.png\")"
   ]
  },
  {
   "cell_type": "code",
   "execution_count": null,
   "metadata": {},
   "outputs": [],
   "source": []
  }
 ],
 "metadata": {
  "kernel_info": {
   "name": "python3"
  },
  "kernelspec": {
   "display_name": "Python 3",
   "language": "python",
   "name": "python3"
  },
  "language_info": {
   "codemirror_mode": {
    "name": "ipython",
    "version": 3
   },
   "file_extension": ".py",
   "mimetype": "text/x-python",
   "name": "python",
   "nbconvert_exporter": "python",
   "pygments_lexer": "ipython3",
   "version": "3.7.3"
  },
  "nteract": {
   "version": "0.12.3"
  },
  "varInspector": {
   "cols": {
    "lenName": 16,
    "lenType": 16,
    "lenVar": 40
   },
   "kernels_config": {
    "python": {
     "delete_cmd_postfix": "",
     "delete_cmd_prefix": "del ",
     "library": "var_list.py",
     "varRefreshCmd": "print(var_dic_list())"
    },
    "r": {
     "delete_cmd_postfix": ") ",
     "delete_cmd_prefix": "rm(",
     "library": "var_list.r",
     "varRefreshCmd": "cat(var_dic_list()) "
    }
   },
   "types_to_exclude": [
    "module",
    "function",
    "builtin_function_or_method",
    "instance",
    "_Feature"
   ],
   "window_display": false
  }
 },
 "nbformat": 4,
 "nbformat_minor": 4
}
